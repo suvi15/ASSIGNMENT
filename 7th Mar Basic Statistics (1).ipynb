{
 "cells": [
  {
   "cell_type": "code",
   "execution_count": null,
   "id": "5c5b333e-57b9-4129-bbd5-73b25ea40117",
   "metadata": {},
   "outputs": [],
   "source": [
    "# Q1. What are the three measures of central tendency?\n",
    "# Ans:- There are three main measures of central tendency: mode. median. mean."
   ]
  },
  {
   "cell_type": "code",
   "execution_count": null,
   "id": "a05de9b4-51ea-47bf-aea1-afe99a108217",
   "metadata": {},
   "outputs": [],
   "source": [
    "# Q2. What is the difference between the mean, median, and mode? How are they used to measure the\n",
    "#     central tendency of a dataset?\n",
    "# Ans:- Type of Variable\t                         Best measure of central tendency\n",
    "#       1.Nominal\t                                           Mode\n",
    "#       2.Ordinal\t                                           Median\n",
    "#       3.Interval/Ratio (not skewed)\t                       Mean\n",
    "#       4.Interval/Ratio (skewed)\t                           Median\n",
    "# The difference between mean, median and mode are: Mean is the average value of the given observations.\n",
    "# Median is the middle value of the given observations.\n",
    "# Mode is the most repeated value in the given observation."
   ]
  },
  {
   "cell_type": "code",
   "execution_count": 7,
   "id": "2b664aa1-bc92-40fa-b3a5-b443afe456d4",
   "metadata": {},
   "outputs": [
    {
     "data": {
      "text/plain": [
       "177.01875"
      ]
     },
     "execution_count": 7,
     "metadata": {},
     "output_type": "execute_result"
    }
   ],
   "source": [
    "#Q3. Measure the three measures of central tendency for the given height data:\n",
    "#    [178,177,176,177,178.2,178,175,179,180,175,178.9,176.2,177,172.5,178,176.5]\n",
    "#Ans:-\n",
    "import numpy as np\n",
    "H = [178,177,176,177,178.2,178,175,179,180,175,178.9,176.2,177,172.5,178,176.5]\n",
    "np.mean(H)\n",
    "\n"
   ]
  },
  {
   "cell_type": "code",
   "execution_count": 8,
   "id": "a0114581-3821-4957-aa3b-2eaea0c5be72",
   "metadata": {},
   "outputs": [
    {
     "data": {
      "text/plain": [
       "177.0"
      ]
     },
     "execution_count": 8,
     "metadata": {},
     "output_type": "execute_result"
    }
   ],
   "source": [
    "np.median(H)"
   ]
  },
  {
   "cell_type": "code",
   "execution_count": 16,
   "id": "4e8aabd5-996f-42be-8523-867dc773c26b",
   "metadata": {},
   "outputs": [],
   "source": [
    "from scipy import stats as st"
   ]
  },
  {
   "cell_type": "code",
   "execution_count": 17,
   "id": "c0ecda61-8d07-4b14-bbf0-c7d3428dbb28",
   "metadata": {},
   "outputs": [
    {
     "name": "stderr",
     "output_type": "stream",
     "text": [
      "/tmp/ipykernel_691/3847394360.py:1: FutureWarning: Unlike other reduction functions (e.g. `skew`, `kurtosis`), the default behavior of `mode` typically preserves the axis it acts along. In SciPy 1.11.0, this behavior will change: the default value of `keepdims` will become False, the `axis` over which the statistic is taken will be eliminated, and the value None will no longer be accepted. Set `keepdims` to True or False to avoid this warning.\n",
      "  st.mode(H)\n"
     ]
    },
    {
     "data": {
      "text/plain": [
       "ModeResult(mode=array([177.]), count=array([3]))"
      ]
     },
     "execution_count": 17,
     "metadata": {},
     "output_type": "execute_result"
    }
   ],
   "source": [
    "st.mode(H)"
   ]
  },
  {
   "cell_type": "code",
   "execution_count": 19,
   "id": "0d926c2f-fc38-4961-a5d5-a18a047768f2",
   "metadata": {},
   "outputs": [
    {
     "data": {
      "text/plain": [
       "1.7885814036548633"
      ]
     },
     "execution_count": 19,
     "metadata": {},
     "output_type": "execute_result"
    }
   ],
   "source": [
    "# Q4. Find the standard deviation for the given data:\n",
    "#     [178,177,176,177,178.2,178,175,179,180,175,178.9,176.2,177,172.5,178,176.5]\n",
    "# Ans:- \n",
    "h = [178,177,176,177,178.2,178,175,179,180,175,178.9,176.2,177,172.5,178,176.5]\n",
    "np.std(h)"
   ]
  },
  {
   "cell_type": "code",
   "execution_count": null,
   "id": "f90025b7-8752-4415-856c-0d98888f0307",
   "metadata": {},
   "outputs": [],
   "source": [
    "# Q5. How are measures of dispersion such as range, variance, and standard deviation used to describe\n",
    "#     the spread of a dataset? Provide an example.\n",
    "# Ans:- Measures of dispersion describe the spread of the data. They include the range, interquartile range,\n",
    "#       standard deviation and variance. The range is given as the smallest and largest observations. This is the simplest measure of \n",
    "#       variability.\n",
    "#       Standard deviation (SD) is the most commonly used measure of dispersion. It is a measure of spread of data about the mean.\n",
    "#       SD is the square root of sum of squared deviation from the mean divided by the number of observations. This formula is a \n",
    "#       definitional one and for calculations, an easier formula is used."
   ]
  },
  {
   "cell_type": "code",
   "execution_count": null,
   "id": "49120118-ab15-4886-98c2-37176bfb892c",
   "metadata": {},
   "outputs": [],
   "source": [
    "# Q6. What is a Venn diagram?\n",
    "# Ans:- A Venn diagram is an illustration that uses circles to show the relationships among things or finite groups of things.\n",
    "#       Circles that overlap have a commonality while circles that do not overlap do not share those traits. Venn diagrams help to visually\n",
    "#       represent the similarities and differences between two concepts."
   ]
  },
  {
   "cell_type": "code",
   "execution_count": 3,
   "id": "1824daf5-f59f-4a48-a711-a0820706339f",
   "metadata": {},
   "outputs": [
    {
     "data": {
      "text/plain": [
       "{2, 6}"
      ]
     },
     "execution_count": 3,
     "metadata": {},
     "output_type": "execute_result"
    }
   ],
   "source": [
    "#Q7. For the two given sets A = (2,3,4,5,6,7) & B = (0,2,6,8,10). Find:\n",
    "# Ans:- \n",
    "A = {2,3,4,5,6,7}\n",
    "B = {0,2,6,8,10}\n",
    "A.intersection(B)"
   ]
  },
  {
   "cell_type": "code",
   "execution_count": 4,
   "id": "7bd880d8-e1a7-4ddc-987b-8a43ae67848f",
   "metadata": {},
   "outputs": [
    {
     "data": {
      "text/plain": [
       "{0, 2, 3, 4, 5, 6, 7, 8, 10}"
      ]
     },
     "execution_count": 4,
     "metadata": {},
     "output_type": "execute_result"
    }
   ],
   "source": [
    "A.union(B)"
   ]
  },
  {
   "cell_type": "code",
   "execution_count": null,
   "id": "a9450ab7-c707-4235-8f76-6252eaa6748d",
   "metadata": {},
   "outputs": [],
   "source": [
    "# Q8. What do you understand about skewness in data?\n",
    "#  Ans:- Skewness is a measurement of the distortion of symmetrical distribution or asymmetry in a data set.\n",
    "#        Skewness is demonstrated on a bell curve when data points are not distributed symmetrically to the left and right sides of \n",
    "#        the median on a bell curve."
   ]
  },
  {
   "cell_type": "code",
   "execution_count": null,
   "id": "caea41ab-399c-4891-96a1-a25bab23de58",
   "metadata": {},
   "outputs": [],
   "source": [
    "# Q9. If a data is right skewed then what will be the position of median with respect to mean?\n",
    "#  Ans:- If the distribution of data is skewed to the right, the mode is often less than the median, which is less than the mean. Skewness and symmetry\n",
    "#        become important when we discuss probability distributions in later chapters"
   ]
  },
  {
   "cell_type": "code",
   "execution_count": null,
   "id": "711a75a9-8694-4b4d-a00e-ca86634b539b",
   "metadata": {},
   "outputs": [],
   "source": [
    "# Q10. Explain the difference between covariance and correlation. How are these measures used in\n",
    "#      statistical analysis?\n",
    "# Ans:-Covariance is an indicator of the extent to which 2 random variables are dependent on each other. A higher number denotes higher dependency.\n",
    "#      Correlation is a statistical measure that indicates how strongly two variables are related. The value of covariance lies in the range\n",
    "#      of -∞ and +∞ .\n",
    "    \n",
    "#     Both covariance and correlation measure the relationship and the dependency between two variables. Covariance indicates the direction of \n",
    "#     the linear relationship between variables. Correlation measures both the strength and direction of the linear relationship between two variables"
   ]
  },
  {
   "cell_type": "code",
   "execution_count": null,
   "id": "9a13d038-ff8b-41bb-b0d5-2bdfb1ae0376",
   "metadata": {},
   "outputs": [],
   "source": [
    "# Q11. What is the formula for calculating the sample mean? Provide an example calculation for a\n",
    "#      dataset.\n",
    "# Ans:-The general formula for calculating the sample mean is given by x̄ = ( Σ xi ) / n. Here, x̄ represents the sample mean,\n",
    "#      xi refers all X sample values and n stands for the number of sample terms in the data set. \n",
    "    \n",
    "    \n",
    "# Examples on Sample Mean Formula\n",
    "# Example 1: Find the sample mean of 60, 57, 109, 50.\n",
    "\n",
    "# Solution: \n",
    "\n",
    "# To find: Sample mean\n",
    "# Sum of terms = 60 + 57 + 109 + 50 = 276\n",
    "# Number of terms = 4\n",
    "# Using sample mean formula,\n",
    "# mean = (sum of terms)/(number of terms)\n",
    "# mean = 276/4 = 69\n",
    "\n",
    "# Answer: The sample mean of 60, 57, 109, 50 is  69"
   ]
  },
  {
   "cell_type": "code",
   "execution_count": null,
   "id": "5bf0b545-a6d9-459e-84f3-6d5b5d921ba2",
   "metadata": {},
   "outputs": [],
   "source": [
    "# Q12. For a normal distribution data what is the relationship between its measure of central tendency?\n",
    "# Ans:- Any normal distribution has a graph that is perfectly symmetric about a vertical line through its peak. Therefore, \n",
    "#       all measures of central tendency (most commonly, the mean, median, and mode) give the same answer: the x -value of the peak."
   ]
  },
  {
   "cell_type": "code",
   "execution_count": null,
   "id": "399f1837-3da4-4c1c-bbab-8c3e9c6ba0e6",
   "metadata": {},
   "outputs": [],
   "source": [
    "# Q13. How is covariance different from correlation?\n",
    "# Ans:- Covariance and correlation are two terms that are opposed and are both used in statistics and regression analysis.\n",
    "#       Covariance shows you how the two variables differ, whereas correlation shows you how the two variables are related."
   ]
  },
  {
   "cell_type": "code",
   "execution_count": null,
   "id": "d3edeac0-88e8-4d3a-a4c3-943480508060",
   "metadata": {},
   "outputs": [],
   "source": [
    "# Q14. How do outliers affect measures of central tendency and dispersion? Provide an example.\n",
    "# Ans:- Measures of central tendency are mean, median and mode. Outliers affect the mean value of the data but have little effect on the median or \n",
    "#    mode of a given set of data.\n",
    "    \n",
    "#     Explanation:\n",
    "#                 When a outlier is present it can effect the shape of the graph, if we have outliers to the right of the graph.\n",
    "#                 These outliers are causing the mean to increase, but if we have outliers to the left of the graph these outliers are dragging down\n",
    "#                 the mean. This causes a conflict because the mean no longer provides a good representation of the data, alternatively we would much\n",
    "#                 rather use the median. The median on the other hand is less likely to be affect by outliers.\n",
    "                \n",
    "# An outlier can affect the mean by being unusually small or unusually large. In the previous example, Bill Gates had an unusually large income,\n",
    "# which caused the mean to be misleading. The mean score is 84.6. However, if we remove the “0” score from the dataset, then the mean score becomes94.\n",
    "\n",
    "# Outliers Measures of central tendency and dispersion can give misleading impressions of a data set if the set contains one or more outliers.\n",
    "# An outlier is a value that is much greater than or much less than most of the other values in a data set.\n",
    "\n",
    "# What is most affected by outliers in statistics?\n",
    "# The mean is more sensitive to the existence of outliers than the median or mode.\n",
    "\n",
    "# What is the effect of outliers on measures of Centre and spread?\n",
    "# Effect on the range and standard deviation\n",
    "# The inclusion of outliers increases the spread of data, leading to larger range and standard deviation. Conversely, removing outliers decreases\n",
    "# the spread of data, leading to smaller range and standard deviation\n",
    "\n",
    "# Which measure of dispersion is most influenced by outliers?\n",
    "# The standard deviation is calculated using every observation in the data set. Consequently, it is called a sensitive measure because \n",
    "# it will be influenced by outliers.\n",
    "\n",
    "# What is the impact of outliers in a dataset?\n",
    "# Outliers increase the variability in your data, which decreases statistical power. Consequently, excluding outliers can cause your results\n",
    "# to become statistically significant.\n",
    "\n",
    "# How do outliers affect mean and standard deviation?\n",
    "# Here we see that the outlier decreases the mean so that the mean is too low to be representative of this student's typical performance.\n",
    "# We also see that the outlier increases the standard deviation, which gives the impression of a wide variability in scores.\n",
    "\n",
    "# Why do we need outliers in statistics?\n",
    "# Outliers are important because they can have a large influence on statistics derived from the dataset. For example, the mean intake of energy \n",
    "# or some nutrient may be [glossary term:] skewed upward or downward by one or a few extreme values (Learn More about Normal Distributions).\n",
    "\n",
    "# Which is affected by outliers and skewed data?\n",
    "# the mean\n",
    "# Of the three measures of tendency, the mean is most heavily influenced by any outliers or skewness. In a symmetrical distribution, the mean,\n",
    "# median, and mode are all equal."
   ]
  }
 ],
 "metadata": {
  "kernelspec": {
   "display_name": "Python 3 (ipykernel)",
   "language": "python",
   "name": "python3"
  },
  "language_info": {
   "codemirror_mode": {
    "name": "ipython",
    "version": 3
   },
   "file_extension": ".py",
   "mimetype": "text/x-python",
   "name": "python",
   "nbconvert_exporter": "python",
   "pygments_lexer": "ipython3",
   "version": "3.10.8"
  }
 },
 "nbformat": 4,
 "nbformat_minor": 5
}
