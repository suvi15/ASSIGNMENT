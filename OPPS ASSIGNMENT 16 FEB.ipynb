{
 "cells": [
  {
   "cell_type": "code",
   "execution_count": 1,
   "id": "53dabcfd-e681-41be-9fe5-34fc6c0350b9",
   "metadata": {},
   "outputs": [],
   "source": [
    "# Q1. What is Abstraction in OOps? Explain with an example ?\n",
    "\n",
    "# ANS-->> Abstraction is the process of hiding the internal details of an application from the outer world.\n",
    "#            Abstraction is used to describe things in simple terms.\n",
    "#                It’s used to create a boundary between the application and the client programs.\n",
    "        \n",
    "# example - When we use the TV remote to increase the volume. We don't know how pressing a key increases the volume of the TV\n",
    "#               . We only know to press the \"+\" button to increase the volume.\n",
    "#                     That is exactly the abstraction that works in the object-oriented concept.\n",
    "        \n",
    "        \n",
    "        "
   ]
  },
  {
   "cell_type": "code",
   "execution_count": 2,
   "id": "8ae10dbb-993b-4ad6-9ded-2dcd5814be42",
   "metadata": {},
   "outputs": [],
   "source": [
    "# Q2. Differentiate between Abstraction and Encapsulation. Explain with an example ?\n",
    "\n",
    "# ANS ---->>  Encapsulation:-   is defined as the wrapping up of data under a single unit. \n",
    "#                       It is the mechanism that binds together code and the data it manipulates. \n",
    "#                          Another way to think about encapsulation is, that it is a protective shield that prevents\n",
    "#                           the data from being accessed by the code outside this shield. Technically in encapsulation, \n",
    "#                         the variables or data of a class is hidden from any other class and can be accessed only through \n",
    "#                              any member function of its own class in which they are declared. As in encapsulation, \n",
    "#                               the data in a class is hidden from other classes, so it is also known as data-hiding.\n",
    "#                               Encapsulation can be achieved by Declaring all the variables in the class as private and writing\n",
    "#                                    public methods in the class to set and get the values of variables.\n",
    "\n",
    "                                \n",
    "                                \n",
    "#  Data Abstraction:-- is the property by virtue of which only the essential details are displayed to the user. \n",
    "#                The trivial or the non-essential units are not displayed to the user.\n",
    "#                         Ex: A car is viewed as a car rather than its individual components                               \n",
    "\n",
    "\n"
   ]
  },
  {
   "cell_type": "code",
   "execution_count": 3,
   "id": "add7372d-cbc8-423c-92d2-c50710ed3b16",
   "metadata": {},
   "outputs": [],
   "source": [
    "# Q3. What is abc module in python? Why is it used??\n",
    "\n",
    " \n",
    "#   abc module:--             A class is called an Abstract class if it contains one or more abstract methods. \n",
    "#                          An abstract method is a method that is declared, but contains no implementation. \n",
    "#                         Abstract classes may not be instantiated, and its abstract methods must be implemented by its subclasses.\n",
    "  \n",
    "#                 abc' works by marking methods of the base class as abstract. This is done by @absttractmethod decorator.\n",
    "#                A concrete class which is a sub class of such abstract base class then implements the abstract base by \n",
    "#                   overriding its abstract methods"
   ]
  },
  {
   "cell_type": "code",
   "execution_count": 4,
   "id": "60ee49d5-c7d9-4e03-aea4-f020d96ea120",
   "metadata": {},
   "outputs": [],
   "source": [
    "# Q4. How can we achieve data abstraction?\n",
    "\n",
    "\n",
    "\n",
    "# Achieving Abstraction in Python:\n",
    "\n",
    "#          In Python, abstraction can be achieved by having/using abstract classes and methods in our programs\n",
    "        \n",
    "#  Understanding Abstract Methods and Classes:\n",
    "\n",
    "#          An abstract method is a method that is declared, but does not contain implementation.\n",
    "#         An abstract method in a base class identifies the functionality that should be implemented by all its subclasses. \n",
    "#         However, since the implementation of an abstract method would differ from one subclass to another, \n",
    "#         often the method body comprises just a pass statement. Every subclass of the base class will ride this method with\n",
    "#     its implementation. A class containing abstract methods is called abstract class.Python provides the abc module to use \n",
    "#     the abstraction in the Python program, syntax as:\n",
    "\n",
    "# 1 from abc import ABC,   \n",
    "# 2 class ClassName(ABC):       "
   ]
  },
  {
   "cell_type": "code",
   "execution_count": 6,
   "id": "1bd0a46a-5d46-4354-b92b-5f9a72d749a8",
   "metadata": {},
   "outputs": [],
   "source": [
    "# Q5. Can we create an instance of an abstract class? Explain your answer?\n",
    "\n",
    "\n",
    "#         We cannot create an abstract class in Python directly. However, Python does provide a module that \n",
    "#                           allows us to define abstract classes. \n",
    "#            The module we can use to create an abstract class in Python is abc(abstract base class) module.\n",
    "            \n",
    "            \n",
    "#             Abstract methods force the child classes to give the implementation of these methods in them and thus help \n",
    "#             us achieve abstraction as each subclass can give its own implementation. \n",
    "#             A class containing one or more than one abstract method is called an abstract class.\n",
    "            \n",
    "            \n",
    "#             We can use the following syntax to create an abstract class in Python:\n",
    "\n",
    "# from abc import ABC\n",
    "# class <Abstract_Class_Name>(ABC):\n",
    "# \t# body of the class\n",
    "            \n",
    "            "
   ]
  },
  {
   "cell_type": "code",
   "execution_count": null,
   "id": "d0aaf9be-06ae-45b0-b611-5a316b0d42cb",
   "metadata": {},
   "outputs": [],
   "source": []
  }
 ],
 "metadata": {
  "kernelspec": {
   "display_name": "Python 3 (ipykernel)",
   "language": "python",
   "name": "python3"
  },
  "language_info": {
   "codemirror_mode": {
    "name": "ipython",
    "version": 3
   },
   "file_extension": ".py",
   "mimetype": "text/x-python",
   "name": "python",
   "nbconvert_exporter": "python",
   "pygments_lexer": "ipython3",
   "version": "3.10.8"
  }
 },
 "nbformat": 4,
 "nbformat_minor": 5
}
